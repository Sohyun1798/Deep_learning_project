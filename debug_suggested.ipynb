{
 "cells": [
  {
   "cell_type": "markdown",
   "metadata": {},
   "source": [
    "# Prepare"
   ]
  },
  {
   "cell_type": "code",
   "execution_count": 1,
   "metadata": {},
   "outputs": [],
   "source": [
    "import torch\n",
    "\n",
    "torch.cuda.empty_cache()"
   ]
  },
  {
   "cell_type": "code",
   "execution_count": 2,
   "metadata": {},
   "outputs": [
    {
     "name": "stdout",
     "output_type": "stream",
     "text": [
      "Debugging\n"
     ]
    }
   ],
   "source": [
    "import argparse\n",
    "import json\n",
    "import os\n",
    "\n",
    "import numpy as np\n",
    "import sklearn.metrics\n",
    "import torch\n",
    "from torch import optim\n",
    "\n",
    "from lib.suggested.self_attention_with_cnn import SelfAttentionCnnClassifier\n",
    "from lib.embedding import load_full_embedding_with_vocab\n",
    "from lib.reader import WikiqaReader, filtered_ref_generator\n",
    "from lib.train import train_model, get_label_score\n",
    "from lib.transformer import NoamOpt"
   ]
  },
  {
   "cell_type": "code",
   "execution_count": 3,
   "metadata": {},
   "outputs": [],
   "source": [
    "config_path = 'models/suggested/self_attention_with_cnn/config.json'"
   ]
  },
  {
   "cell_type": "code",
   "execution_count": 4,
   "metadata": {},
   "outputs": [],
   "source": [
    "with open(config_path, 'r') as fread:\n",
    "    config_dict = json.load(fread)\n",
    "\n",
    "# path\n",
    "path_config = config_dict['Path']\n",
    "model_dir = path_config['model_dir']\n",
    "train = path_config['train']\n",
    "dev = path_config['dev']\n",
    "dev_ref = path_config['dev_ref']\n",
    "test = path_config['test']\n",
    "test_ref = path_config['test_ref']\n",
    "\n",
    "words_embed, words_vocab = load_full_embedding_with_vocab(path_config['embed_dir'])\n",
    "vocabs = {'q_words': words_vocab, 'a_words': words_vocab}\n",
    "\n",
    "# model\n",
    "model_config = config_dict['Model']\n",
    "conv_width = model_config['conv_width']\n",
    "out_channels = model_config['out_channels']\n",
    "hidden_size = model_config['hidden_size']\n",
    "cuda_device = model_config['cuda_device']\n",
    "dropout = model_config['dropout']\n",
    "h = model_config['h']\n",
    "d_ff = model_config['d_ff']"
   ]
  },
  {
   "cell_type": "code",
   "execution_count": 5,
   "metadata": {},
   "outputs": [],
   "source": [
    "import importlib\n",
    "import lib.suggested.self_attention_with_cnn\n",
    "importlib.reload(lib.suggested.self_attention_with_cnn)\n",
    "\n",
    "SelfAttentionCnnClassifier = lib.suggested.self_attention_with_cnn.SelfAttentionCnnClassifier\n",
    "\n",
    "clf = SelfAttentionCnnClassifier(words_embed=words_embed, out_channels=out_channels,\n",
    "            conv_width=conv_width, hidden_size=hidden_size, cuda_device=None,\n",
    "            h=h, d_ff=d_ff, dropout=dropout)"
   ]
  },
  {
   "cell_type": "code",
   "execution_count": 6,
   "metadata": {},
   "outputs": [],
   "source": [
    "clf.load_state_dict(torch.load(os.path.join(model_dir, 'net.pt')))"
   ]
  },
  {
   "cell_type": "code",
   "execution_count": 7,
   "metadata": {},
   "outputs": [],
   "source": [
    "dev_reader = WikiqaReader(dev, PAD_TOKEN='<pad>')\n",
    "dev_reader.set_vocabs(vocabs)\n",
    "\n",
    "dev_iterator = dev_reader.get_dataset_iterator(10, train=True)"
   ]
  },
  {
   "cell_type": "markdown",
   "metadata": {},
   "source": [
    "# gradient"
   ]
  },
  {
   "cell_type": "code",
   "execution_count": 8,
   "metadata": {},
   "outputs": [],
   "source": [
    "from lib.train import train_model"
   ]
  },
  {
   "cell_type": "code",
   "execution_count": 9,
   "metadata": {},
   "outputs": [],
   "source": [
    "optimizer = torch.optim.Adam(clf.parameters())"
   ]
  },
  {
   "cell_type": "code",
   "execution_count": 10,
   "metadata": {},
   "outputs": [],
   "source": [
    "train_model(clf, optimizer, dev_iterator, label_name='label',\n",
    "            num_epoch=1, cuda_device=None, early_stopping=0,\n",
    "            input_names=['q_words', 'a_words'], callback=None, verbose=False)"
   ]
  },
  {
   "cell_type": "markdown",
   "metadata": {},
   "source": [
    "---"
   ]
  },
  {
   "cell_type": "code",
   "execution_count": 22,
   "metadata": {},
   "outputs": [
    {
     "name": "stdout",
     "output_type": "stream",
     "text": [
      "tensor([[-0.0007,  0.0018, -0.0000,  ...,  0.0021, -0.0002, -0.0013],\n",
      "        [ 0.0018, -0.0022,  0.0007,  ..., -0.0054, -0.0056,  0.0027],\n",
      "        [-0.0101,  0.0101,  0.0043,  ...,  0.0022, -0.0037, -0.0050],\n",
      "        ...,\n",
      "        [ 0.0011, -0.0027,  0.0006,  ..., -0.0006,  0.0024, -0.0006],\n",
      "        [ 0.0014, -0.0042, -0.0017,  ..., -0.0027,  0.0006, -0.0012],\n",
      "        [-0.0033,  0.0021,  0.0041,  ...,  0.0040,  0.0018, -0.0002]])\n",
      "tensor(0.0039)\n"
     ]
    }
   ],
   "source": [
    "print(clf.a_mha2.linears[3].weight.grad)\n",
    "print(clf.a_mha2.linears[3].weight.grad.std())"
   ]
  },
  {
   "cell_type": "code",
   "execution_count": 26,
   "metadata": {
    "scrolled": true
   },
   "outputs": [
    {
     "name": "stdout",
     "output_type": "stream",
     "text": [
      "tensor([[ 0.0000,  0.0000,  0.0000,  ...,  0.0000,  0.0000,  0.0000],\n",
      "        [ 0.0000,  0.0000,  0.0000,  ...,  0.0000,  0.0000,  0.0000],\n",
      "        [ 0.0000,  0.0000,  0.0000,  ...,  0.0000,  0.0000,  0.0000],\n",
      "        ...,\n",
      "        [-0.0001,  0.0001, -0.0000,  ...,  0.0000, -0.0001, -0.0001],\n",
      "        [ 0.0082,  0.0016,  0.0099,  ..., -0.0125,  0.0117,  0.0069],\n",
      "        [ 0.0001,  0.0002,  0.0012,  ..., -0.0019, -0.0004, -0.0010]])\n",
      "tensor(0.0034)\n"
     ]
    }
   ],
   "source": [
    "print(clf.hidden1.weight.grad)\n",
    "print(clf.hidden1.weight.grad.std())"
   ]
  },
  {
   "cell_type": "code",
   "execution_count": 23,
   "metadata": {},
   "outputs": [
    {
     "name": "stdout",
     "output_type": "stream",
     "text": [
      "tensor([[ 0.0006, -0.0004, -0.0011,  ..., -0.0011,  0.0012, -0.0019],\n",
      "        [-0.0001,  0.0037,  0.0013,  ..., -0.0014, -0.0006,  0.0018],\n",
      "        [ 0.0003,  0.0055, -0.0015,  ...,  0.0005,  0.0010, -0.0011],\n",
      "        ...,\n",
      "        [ 0.0009,  0.0004,  0.0012,  ..., -0.0027, -0.0001, -0.0012],\n",
      "        [-0.0007,  0.0024, -0.0028,  ...,  0.0035, -0.0004,  0.0021],\n",
      "        [-0.0005,  0.0007, -0.0011,  ...,  0.0009,  0.0004,  0.0007]])\n",
      "tensor(0.0023)\n"
     ]
    }
   ],
   "source": [
    "print(clf.a_mha2.linears[0].weight.grad)\n",
    "print(clf.a_mha2.linears[0].weight.grad.std())"
   ]
  },
  {
   "cell_type": "code",
   "execution_count": 24,
   "metadata": {},
   "outputs": [
    {
     "name": "stdout",
     "output_type": "stream",
     "text": [
      "tensor([[-0.0033,  0.0002, -0.0029,  ...,  0.0054,  0.0009, -0.0010],\n",
      "        [ 0.0006,  0.0009,  0.0002,  ...,  0.0004, -0.0009, -0.0017],\n",
      "        [ 0.0005, -0.0005, -0.0015,  ...,  0.0010,  0.0003, -0.0009],\n",
      "        ...,\n",
      "        [-0.0004, -0.0038, -0.0001,  ...,  0.0007, -0.0022,  0.0001],\n",
      "        [ 0.0002, -0.0016, -0.0024,  ...,  0.0049,  0.0008,  0.0028],\n",
      "        [-0.0018,  0.0035, -0.0093,  ...,  0.0129, -0.0008,  0.0004]])\n",
      "tensor(0.0029)\n"
     ]
    }
   ],
   "source": [
    "print(clf.a_mha2.linears[1].weight.grad)\n",
    "print(clf.a_mha2.linears[1].weight.grad.std())"
   ]
  },
  {
   "cell_type": "markdown",
   "metadata": {},
   "source": [
    "# Attention Visualization"
   ]
  },
  {
   "cell_type": "code",
   "execution_count": 11,
   "metadata": {},
   "outputs": [],
   "source": [
    "import matplotlib.pyplot as plt"
   ]
  },
  {
   "cell_type": "code",
   "execution_count": 13,
   "metadata": {},
   "outputs": [
    {
     "data": {
      "text/plain": [
       "<matplotlib.image.AxesImage at 0x7f0f87406438>"
      ]
     },
     "execution_count": 13,
     "metadata": {},
     "output_type": "execute_result"
    },
    {
     "data": {
      "image/png": "[encoded data removed]",
      "text/plain": [
       "<Figure size 432x288 with 1 Axes>"
      ]
     },
     "metadata": {
      "needs_background": "light"
     },
     "output_type": "display_data"
    }
   ],
   "source": [
    "plt.imshow(clf.q_mha2.attn[0][0].detach().numpy(), cmap='hot', interpolation='nearest',)\n",
    "# plt.xticks(np.arange(10), labels=tokens)\n",
    "# plt.yticks(np.arange(10), labels=tokens)"
   ]
  },
  {
   "cell_type": "code",
   "execution_count": 14,
   "metadata": {},
   "outputs": [
    {
     "data": {
      "text/plain": [
       "<matplotlib.image.AxesImage at 0x7f0f87392748>"
      ]
     },
     "execution_count": 14,
     "metadata": {},
     "output_type": "execute_result"
    },
    {
     "data": {
      "image/png": "[encoded data removed]",
      "text/plain": [
       "<Figure size 432x288 with 1 Axes>"
      ]
     },
     "metadata": {
      "needs_background": "light"
     },
     "output_type": "display_data"
    }
   ],
   "source": [
    "plt.imshow(clf.a_mha2.attn[0][0].detach().numpy(), cmap='hot', interpolation='nearest',)\n",
    "# plt.xticks(np.arange(10), labels=tokens)\n",
    "# plt.yticks(np.arange(10), labels=tokens)"
   ]
  }
 ],
 "metadata": {
  "kernelspec": {
   "display_name": "Python 3",
   "language": "python",
   "name": "python3"
  },
  "language_info": {
   "codemirror_mode": {
    "name": "ipython",
    "version": 3
   },
   "file_extension": ".py",
   "mimetype": "text/x-python",
   "name": "python",
   "nbconvert_exporter": "python",
   "pygments_lexer": "ipython3",
   "version": "3.6.7"
  }
 },
 "nbformat": 4,
 "nbformat_minor": 2
}
